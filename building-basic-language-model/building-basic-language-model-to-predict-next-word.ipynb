{
 "cells": [
  {
   "cell_type": "code",
   "execution_count": 1,
   "id": "8eb07f42-8c57-4d25-90c4-53a0b59595e5",
   "metadata": {},
   "outputs": [],
   "source": [
    "# Import the libraries\n",
    "import nltk\n",
    "from nltk.corpus import reuters\n",
    "from nltk import trigrams\n",
    "from collections import defaultdict"
   ]
  },
  {
   "cell_type": "code",
   "execution_count": 2,
   "id": "2cf21b94-66eb-4af1-b1fc-b54ed030ecfc",
   "metadata": {},
   "outputs": [
    {
     "name": "stderr",
     "output_type": "stream",
     "text": [
      "[nltk_data] Downloading package reuters to /home/johnadi/nltk_data...\n",
      "[nltk_data]   Package reuters is already up-to-date!\n",
      "[nltk_data] Downloading package punkt to /home/johnadi/nltk_data...\n",
      "[nltk_data]   Package punkt is already up-to-date!\n"
     ]
    },
    {
     "data": {
      "text/plain": [
       "True"
      ]
     },
     "execution_count": 2,
     "metadata": {},
     "output_type": "execute_result"
    }
   ],
   "source": [
    "# Download the reuters corpus and punkt corpus\n",
    "nltk.download('reuters')\n",
    "nltk.download('punkt')"
   ]
  },
  {
   "cell_type": "code",
   "execution_count": 3,
   "id": "14f1ae29-abd4-4e7d-abcd-41b614966e2a",
   "metadata": {},
   "outputs": [],
   "source": [
    "# Create a placeholder for the model \n",
    "model = defaultdict(lambda: defaultdict(lambda: 0))"
   ]
  },
  {
   "cell_type": "code",
   "execution_count": 4,
   "id": "fcd512e9-e9e5-433d-984a-4df46a378e11",
   "metadata": {},
   "outputs": [],
   "source": [
    "# Count the frequency of the third word occurring after the first two words in the model\n",
    "for sentence in reuters.sents():\n",
    "    for w1, w2, w3 in trigrams(sentence, pad_right=True, pad_left=True):\n",
    "        model[(w1, w2)][w3] += 1"
   ]
  },
  {
   "cell_type": "code",
   "execution_count": 5,
   "id": "fd4b4120-4ac7-4c91-85b2-8b345653ca66",
   "metadata": {},
   "outputs": [],
   "source": [
    "# Let's transform the counts to probabilities\n",
    "for w1_w2 in model:\n",
    "    total_count = float(sum(model[w1_w2].values()))\n",
    "    for w3 in model[w1_w2]:\n",
    "        model[w1_w2][w3] /= total_count "
   ]
  },
  {
   "cell_type": "code",
   "execution_count": 6,
   "id": "75511c51-0465-4444-b351-b72c8f3b1c95",
   "metadata": {},
   "outputs": [
    {
     "data": {
      "text/plain": [
       "{'public': 0.05555555555555555,\n",
       " 'European': 0.05555555555555555,\n",
       " 'Bank': 0.05555555555555555,\n",
       " 'price': 0.1111111111111111,\n",
       " 'emirate': 0.05555555555555555,\n",
       " 'overseas': 0.05555555555555555,\n",
       " 'newspaper': 0.05555555555555555,\n",
       " 'company': 0.16666666666666666,\n",
       " 'Turkish': 0.05555555555555555,\n",
       " 'increase': 0.05555555555555555,\n",
       " 'options': 0.05555555555555555,\n",
       " 'Higher': 0.05555555555555555,\n",
       " 'pound': 0.05555555555555555,\n",
       " 'Italian': 0.05555555555555555,\n",
       " 'time': 0.05555555555555555}"
      ]
     },
     "execution_count": 6,
     "metadata": {},
     "output_type": "execute_result"
    }
   ],
   "source": [
    "# Print the 3rd word and its probability\n",
    "dict(model['today', 'the'])"
   ]
  },
  {
   "cell_type": "code",
   "execution_count": null,
   "id": "4d091bcf-b6e4-4c70-bae4-3989b0faabdb",
   "metadata": {},
   "outputs": [],
   "source": []
  }
 ],
 "metadata": {
  "kernelspec": {
   "display_name": "Python 3 (ipykernel)",
   "language": "python",
   "name": "python3"
  },
  "language_info": {
   "codemirror_mode": {
    "name": "ipython",
    "version": 3
   },
   "file_extension": ".py",
   "mimetype": "text/x-python",
   "name": "python",
   "nbconvert_exporter": "python",
   "pygments_lexer": "ipython3",
   "version": "3.10.12"
  }
 },
 "nbformat": 4,
 "nbformat_minor": 5
}
